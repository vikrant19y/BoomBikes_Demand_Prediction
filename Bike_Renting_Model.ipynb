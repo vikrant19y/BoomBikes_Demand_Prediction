{
 "cells": [
  {
   "cell_type": "markdown",
   "id": "d3a7f413-2505-461a-99f3-28cf3aea4477",
   "metadata": {},
   "source": [
    "# <p style=\"font-size:200%; text-align:center; margin: 0\"> BoomBikes Prediction🚴‍♀️📈 </p>"
   ]
  },
  {
   "cell_type": "markdown",
   "id": "772e8a81-3e94-45b3-a126-be144f38baf6",
   "metadata": {},
   "source": [
    "# Table of Contents\n",
    "\n",
    "* [1. Introduction](#intro)\n",
    "    * [1.1. Problem Statement](#problem)\n",
    "    * [1.2. Business Goal](#goal)\n",
    "    * [1.3. Dataset Overview](#dataoverview)\n",
    "* [2. Data Understanding and Processing](#data)\n",
    "    * [2.1. Loading the Data](#loading)\n",
    "    * [2.2. Initial Exploration and Dataset Characteristics](#ieda)\n",
    "    * [2.3. Data Preprocessing](#dataprep)\n",
    "* [3. Exploratory Data Analysis](#eda)\n",
    "    * [3.1. Univariate Analysis](#u_analysis)\n",
    "    * [3.2. Bivariate Analysis](#b_analysis)\n",
    "    * [3.3. Multivariate Analysis](#m_analysis)\n",
    "* [4. Feature Engineering](#feature)\n",
    "* [5. Model Building and Feature Selection](#model)\n",
    "    * [5.1. Feature Selection Using Recursive Feature Elimination (RFE) ](#rfe)\n",
    "    * [5.2. Model Development and Comparison](#models)\n",
    "    * [5.3. Selecting the Best Model](#best_model)\n",
    "    * [5.4. Final Model](#final_model)\n",
    "    * [5.5. Model Evaluation](#model_evaluation)\n",
    "        * [5.5.1. Residual Analysis](#residual_analysis)\n",
    "        * [5.5.2. Predicting for Test Data](#predicting_test_data)\n",
    "* [6. Conclusions and Recommendations](#conclusions)"
   ]
  },
  {
   "cell_type": "markdown",
   "id": "7c09a416-6e27-452c-9fc9-dc962ace21b3",
   "metadata": {},
   "source": [
    "# 1. Introduction <a id=\"intro\"></a>"
   ]
  },
  {
   "cell_type": "markdown",
   "id": "b3810da7-b60b-4d44-89d3-c9bead8acab5",
   "metadata": {},
   "source": [
    "## 1.1. Problem Statement <a id=\"problem\"></a>\n",
    "A bike-sharing system is a service in which bikes are made available for shared use to individuals on a short-term basis for a price or free. BoomBikes, a US-based bike-sharing provider, has experienced a significant decline in revenue due to the ongoing COVID-19 pandemic. To address this challenge, the company aims to develop a strategic business plan to increase revenue once the lockdown ends and the economy stabilizes.\n",
    "\n",
    "The company seeks to understand the factors affecting the demand for shared bikes in the American market. Specifically, BoomBikes wants to know:\n",
    "- Which variables are significant in predicting the demand for shared bikes.\n",
    "- How well those variables describe the bike demands."
   ]
  },
  {
   "cell_type": "markdown",
   "id": "27e53b9a-7904-490e-9fde-e70acbd9b246",
   "metadata": {},
   "source": [
    "## 1.2. Business Goal <a id=\"goal\"></a>\n",
    "The goal is to model the demand for shared bikes using the available independent variables. This model will help the management understand the demand dynamics and adjust their business strategy accordingly to meet customer expectations and gain a competitive edge in the market."
   ]
  },
  {
   "cell_type": "markdown",
   "id": "c4cfb818-8bef-4c07-8388-8afeee3ac86e",
   "metadata": {},
   "source": [
    "## 1.3. Dataset Overview <a id=\"dataoverview\"></a>\n",
    "- instant: record index\n",
    "- dteday : date\n",
    "- season : season (1:spring, 2:summer, 3:fall, 4:winter)\n",
    "- yr : year (0: 2018, 1:2019)\n",
    "- mnth : month ( 1 to 12)\n",
    "- holiday : weather day is a holiday or not (extracted from http://dchr.dc.gov/page/holiday-schedule)\n",
    "- weekday : day of the week\n",
    "- workingday : if day is neither weekend nor holiday is 1, otherwise is 0.\n",
    "- weathersit : \n",
    "    - 1: Clear, Few clouds, Partly cloudy, Partly cloudy\n",
    "    - 2: Mist + Cloudy, Mist + Broken clouds, Mist + Few clouds, Mist\n",
    "    - 3: Light Snow, Light Rain + Thunderstorm + Scattered clouds, Light Rain + Scattered clouds\n",
    "    - 4: Heavy Rain + Ice Pallets + Thunderstorm + Mist, Snow + Fog\n",
    "- temp : temperature in Celsius\n",
    "- atemp: feeling temperature in Celsius\n",
    "- hum: humidity\n",
    "- windspeed: wind speed\n",
    "- casual: count of casual users\n",
    "- registered: count of registered users\n",
    "- cnt: count of total rental bikes including both STM)casual and registered"
   ]
  },
  {
   "cell_type": "code",
   "execution_count": null,
   "id": "c2461939-0930-472d-964f-c6097222cb84",
   "metadata": {},
   "outputs": [],
   "source": [
    "# Importing libraries\n",
    "import pandas as pd\n",
    "import numpy as np\n",
    "import matplotlib.pyplot as plt\n",
    "import seaborn as sns \n",
    "import sklearn\n",
    "import statsmodels.api as sm\n",
    "import scipy.stats as stats \n",
    "from sklearn.model_selection import train_test_split\n",
    "from sklearn.preprocessing import MinMaxScaler\n",
    "from statsmodels.stats.outliers_influence import variance_inflation_factor\n",
    "from sklearn.feature_selection import RFE\n",
    "from sklearn.linear_model import LinearRegression\n",
    "from sklearn.metrics import r2_score\n",
    "import warnings\n",
    "warnings.filterwarnings('ignore')"
   ]
  },
  {
   "cell_type": "markdown",
   "id": "da058e96-1e1b-4b9b-b629-96fc9c1da262",
   "metadata": {
    "jp-MarkdownHeadingCollapsed": true
   },
   "source": [
    "# 2. Data Understanding and Processing <a id=\"data\"></a>"
   ]
  },
  {
   "cell_type": "markdown",
   "id": "555db340-33a8-4656-944a-23bed44cb898",
   "metadata": {},
   "source": [
    "## 2.1. Loading the Data<a id=\"loading\"></a>"
   ]
  },
  {
   "cell_type": "code",
   "execution_count": null,
   "id": "03bacb08-24c4-45b7-8ee2-4dd3263946df",
   "metadata": {},
   "outputs": [],
   "source": [
    "bike_df = pd.read_csv('day.csv')\n",
    "bike_df.head()"
   ]
  },
  {
   "cell_type": "markdown",
   "id": "ac6e04e7-c6fd-4fec-a105-3a2d3160db45",
   "metadata": {},
   "source": [
    "## 2.2. Initial Exploration and Dataset Characteristics<a id=\"ieda\"></a>"
   ]
  },
  {
   "cell_type": "code",
   "execution_count": null,
   "id": "c8b96849-1fe4-4e71-b7c6-31a7b511c059",
   "metadata": {},
   "outputs": [],
   "source": [
    "bike_df.shape"
   ]
  },
  {
   "cell_type": "markdown",
   "id": "2af6fb38-604e-470d-8c9f-4a334fd19c11",
   "metadata": {},
   "source": [
    "### Checking for Null Values"
   ]
  },
  {
   "cell_type": "code",
   "execution_count": null,
   "id": "9d5417e4-c85b-4ffd-9f82-7066596f8c07",
   "metadata": {},
   "outputs": [],
   "source": [
    "bike_df.info()"
   ]
  },
  {
   "cell_type": "code",
   "execution_count": null,
   "id": "31f6c364-b79a-4ab1-8398-6158257eab19",
   "metadata": {},
   "outputs": [],
   "source": [
    "# Checking Statistical Description \n",
    "bike_df.describe().T"
   ]
  },
  {
   "cell_type": "markdown",
   "id": "c493414f-01d5-4e0e-9388-41d01995f7da",
   "metadata": {},
   "source": [
    "## 2.3. Data Preprocessing <a id=\"dataprep\"></a>"
   ]
  },
  {
   "cell_type": "code",
   "execution_count": null,
   "id": "4e28efb7-ad44-44e4-8b56-d47ebaf1e147",
   "metadata": {},
   "outputs": [],
   "source": [
    "bike_df = bike_df.set_index('instant')"
   ]
  },
  {
   "cell_type": "code",
   "execution_count": null,
   "id": "ecc6067b-f1b4-492a-a767-f50bb104aa89",
   "metadata": {},
   "outputs": [],
   "source": [
    "# Renaming Some column Names\n",
    "bike_df.rename(columns={'yr': 'year', 'mnth': 'month', 'hum':'humidity', 'cnt': 'count', 'dteday':'date'}, inplace=True)"
   ]
  },
  {
   "cell_type": "code",
   "execution_count": null,
   "id": "22ab00bd-62a7-4493-9029-51c4d44960f7",
   "metadata": {},
   "outputs": [],
   "source": [
    "# Assigning values to categorical values\n",
    "bike_df['season'] = bike_df['season'].map({1:'spring', 2:'summer', 3:'fall', 4:'winter'})\n",
    "bike_df['weathersit'] = bike_df['weathersit'].map({1:'Clear',2:'Mist',3:'Light_Snow_Rain',4:'Heavy_Snow_Rain'})\n",
    "bike_df['month'] = bike_df['month'].replace((1,2,3,4,5,6,7,8,9,10,11,12),('Jan','Feb','Mar','Apr','May','Jun','Jul','Aug','Sep','Oct','Nov','Dec'))\n",
    "bike_df['weekday'] = bike_df['weekday'].map({1: 'Wed', 2: 'Thurs', 3: 'Fri', 4: 'Sat', 5: 'Sun', 6: 'Mon', 0: 'Tues'})"
   ]
  },
  {
   "cell_type": "code",
   "execution_count": null,
   "id": "96d2a561-1fe1-4ab8-88b9-7f4b0b2b2bf7",
   "metadata": {
    "scrolled": true
   },
   "outputs": [],
   "source": [
    "bike_df.head()"
   ]
  },
  {
   "cell_type": "markdown",
   "id": "c41b0a5b-b48d-4c1d-bf3f-5c99865befbb",
   "metadata": {},
   "source": [
    "### Outliers Handling"
   ]
  },
  {
   "cell_type": "code",
   "execution_count": null,
   "id": "4e2c73ef-a412-4b49-a940-5fef96bb49ca",
   "metadata": {
    "scrolled": true
   },
   "outputs": [],
   "source": [
    "columns = ['humidity', 'temp', 'atemp', 'windspeed']\n",
    "\n",
    "# Setting up the subplots\n",
    "fig, axes = plt.subplots(nrows=2, ncols=2, figsize=(6, 6))\n",
    "\n",
    "# Formatting Figure\n",
    "fig.suptitle('Boxplots of Bike Rentals by Various Factors', fontsize=16, fontweight='bold')\n",
    "\n",
    "# Flatten the axes array for easy iteration\n",
    "axes = axes.flatten()\n",
    "\n",
    "for i, var in enumerate(columns):\n",
    "    sns.boxplot(ax=axes[i], x=var, data=bike_df, palette='muted')\n",
    "    axes[i].set_xlabel(var, fontsize=10, fontweight='bold')\n",
    "\n",
    "# Turn off the last empty subplot\n",
    "if len(columns) < len(axes):\n",
    "    axes[-1].axis('off')\n",
    "\n",
    "plt.tight_layout(rect=[0, 0, 1, 0.96]) \n",
    "plt.show()"
   ]
  },
  {
   "cell_type": "markdown",
   "id": "80b397fa-d8ee-4b65-a7be-d4905380ede2",
   "metadata": {},
   "source": [
    "It seems that there are no such outliers are present which needs to remove."
   ]
  },
  {
   "cell_type": "markdown",
   "id": "0204122a-a383-4a0e-9df3-ea5cea9dc1ab",
   "metadata": {},
   "source": [
    "# 3. Exploratory Data Analysis <a id=\"eda\"></a>\n",
    "\n",
    "- Exploring the data is essential for gaining insights and understanding its underlying patterns.\n",
    "\n",
    "- One of the most significant insights from this dataset is the trend in bike share occurrences over time."
   ]
  },
  {
   "cell_type": "markdown",
   "id": "70989787-a944-457b-820a-db8984386424",
   "metadata": {},
   "source": [
    "## 3.1. Univariate Analysis <a id=\"u_analysis\"></a>"
   ]
  },
  {
   "cell_type": "markdown",
   "id": "93ef32aa-3e20-4ea2-8296-a2221bc8298a",
   "metadata": {},
   "source": [
    "#### Numerical Variables"
   ]
  },
  {
   "cell_type": "code",
   "execution_count": null,
   "id": "06834850-b0e7-406e-9387-00bcf6736af5",
   "metadata": {},
   "outputs": [],
   "source": [
    "columns = ['count', 'humidity', 'temp', 'atemp', 'windspeed']\n",
    "# Setting up the subplots\n",
    "fig, axes = plt.subplots(nrows=3, ncols=2, figsize=(10, 12))\n",
    "\n",
    "# Formatting Figure\n",
    "fig.suptitle('Histograms of Bike Rentals by Various Factors', fontsize=16, fontweight='bold')\n",
    "\n",
    "# Flatten the axes array for easy iteration\n",
    "axes = axes.flatten()\n",
    "for ax, var in zip(axes, columns):\n",
    "    sns.histplot(ax=ax, x=var, data=bike_df, palette='muted', kde=True)\n",
    "    ax.set_xlabel(var, fontsize=10, fontweight='bold')\n",
    "    ax.set_ylabel('Count', fontsize=10, fontweight='bold')\n",
    "# Turn off the last empty subplot\n",
    "if len(columns) < len(axes):\n",
    "    axes[-1].axis('off')\n",
    "\n",
    "\n",
    "plt.tight_layout(rect=[0, 0, 1, 0.96]) \n",
    "plt.show()"
   ]
  },
  {
   "cell_type": "markdown",
   "id": "dc743633-8cf1-4128-b5d3-0bfaac2e5f4b",
   "metadata": {},
   "source": [
    "#### Categorical variable"
   ]
  },
  {
   "cell_type": "code",
   "execution_count": null,
   "id": "0d079a03-9ac6-4e73-b169-3e7530e3a5ba",
   "metadata": {},
   "outputs": [],
   "source": [
    "columns = ['season', 'weathersit', 'holiday', 'workingday', 'weekday', 'month']\n",
    "# Setting up the subplots\n",
    "fig, axes = plt.subplots(nrows=3, ncols=2, figsize=(10, 12))\n",
    "\n",
    "# Formatting Figure\n",
    "fig.suptitle('Countplot of Bike Rentals by Various Factors', fontsize=16, fontweight='bold')\n",
    "\n",
    "# Flatten the axes array for easy iteration\n",
    "axes = axes.flatten()\n",
    "for ax, var in zip(axes, columns):\n",
    "    sns.countplot(ax=ax, x = bike_df[var], width=0.5, palette='Set2')\n",
    "    ax.set_xlabel(var, fontsize=10, fontweight='bold')\n",
    "    ax.set_ylabel('Frequency', fontsize=10, fontweight='bold')\n",
    "\n",
    "plt.tight_layout(rect=[0, 0, 1, 0.96]) \n",
    "plt.show()"
   ]
  },
  {
   "cell_type": "markdown",
   "id": "8d63ed3a-f4c7-4504-aa17-3e1be2d6002f",
   "metadata": {},
   "source": [
    "## 3.2. Bivariate analysis <a id=\"b_analysis\"></a>"
   ]
  },
  {
   "cell_type": "code",
   "execution_count": null,
   "id": "fa4f57d7-bf44-456d-86ad-12fb0760ef24",
   "metadata": {},
   "outputs": [],
   "source": [
    "columns = ['temp', 'atemp', 'humidity', 'windspeed']\n",
    "# Setting up the subplots\n",
    "fig, axes = plt.subplots(nrows=2, ncols=2, figsize=(10, 8))\n",
    "\n",
    "# Formatting Figure\n",
    "fig.suptitle('Scatter Plots of Bike Rentals Against Weather Variables', fontsize=16, fontweight='bold')\n",
    "\n",
    "# Flatten the axes array for easy iteration\n",
    "axes = axes.flatten()\n",
    "for ax, var in zip(axes, columns):\n",
    "    sns.scatterplot(ax=ax, x=var, y='count', data=bike_df, palette='muted')\n",
    "    ax.set_xlabel(var, fontsize=10, fontweight='bold')\n",
    "    ax.set_ylabel('Count', fontsize=10, fontweight='bold')\n",
    "\n",
    "plt.tight_layout(rect=[0, 0, 1, 0.96]) \n",
    "plt.show()"
   ]
  },
  {
   "cell_type": "markdown",
   "id": "de855a7b-2ccd-45c2-b28c-41c1b85c447f",
   "metadata": {},
   "source": [
    "***Inference***:\n",
    "- Temperature (both actual and apparent) seems to be a significant factor in bike rentals, with warmer conditions leading to higher rental counts.\n",
    "- Humidity and windspeed appear to have less pronounced effects, though high humidity and high windspeed might slightly deter rentals."
   ]
  },
  {
   "cell_type": "code",
   "execution_count": null,
   "id": "50a2b391-79be-4c36-a070-62644feacee2",
   "metadata": {},
   "outputs": [],
   "source": [
    "columns = ['temp', 'atemp', 'humidity', 'windspeed']\n",
    "# Setting up the subplots\n",
    "fig, axes = plt.subplots(nrows=2, ncols=2, figsize=(10, 8))\n",
    "\n",
    "# Formatting Figure\n",
    "fig.suptitle('Relationship Between Bike Rentals and Weather Variables Across Seasons', fontsize=16, fontweight='bold')\n",
    "\n",
    "# Flatten the axes array for easy iteration\n",
    "axes = axes.flatten()\n",
    "for ax, var in zip(axes, columns):\n",
    "    sns.scatterplot(ax=ax, x=var, y='count', data=bike_df, hue='season',  palette='muted')\n",
    "    ax.set_xlabel(var, fontsize=10, fontweight='bold')\n",
    "    ax.set_ylabel('Count', fontsize=10, fontweight='bold')\n",
    "\n",
    "plt.tight_layout(rect=[0, 0, 1, 0.96]) \n",
    "plt.show()"
   ]
  },
  {
   "cell_type": "code",
   "execution_count": null,
   "id": "75f81f35-2708-47ca-82f3-d2a867b5009d",
   "metadata": {
    "scrolled": true
   },
   "outputs": [],
   "source": [
    "month_order = ['Jan', 'Feb', 'Mar', 'Apr', 'May', 'Jun', 'Jul', 'Aug', 'Sep', 'Oct', 'Nov', 'Dec']\n",
    "\n",
    "plt.figure(figsize=(6, 4))\n",
    "sns.catplot(data=bike_df, x='month', y='count', order=month_order, kind=\"point\", hue='year', marker='o', aspect=1.5)\n",
    "plt.title('Month-wise Count Trend')\n",
    "plt.xlabel('Month')\n",
    "plt.ylabel('Total Count')\n",
    "plt.grid(True)\n",
    "plt.show()"
   ]
  },
  {
   "cell_type": "markdown",
   "id": "93c5216a-50a9-4a95-be6e-4fe2cc0b5720",
   "metadata": {},
   "source": [
    "**Inference:**\n",
    "- Seasonal Trend: Bike rentals peak during the warmer months (June-Sept) and drop in the colder months (January, December), indicating a strong seasonal influence on demand.\n",
    "\n",
    "- Year-over-Year Increase: The 2019 consistently shows higher rental counts than 2018, suggesting increased popularity or improved conditions for biking."
   ]
  },
  {
   "cell_type": "markdown",
   "id": "33ebdfd3-e354-428f-9212-9c0974e8588c",
   "metadata": {},
   "source": [
    "## 3.3. Multivariate Analysis <a id=\"m_analysis\"></a>"
   ]
  },
  {
   "cell_type": "code",
   "execution_count": null,
   "id": "74f85695-8769-40a1-b340-f263f767dbbc",
   "metadata": {},
   "outputs": [],
   "source": [
    "# Pairplot of numerical columns\n",
    "columns = ['temp', 'atemp', 'humidity', 'windspeed', 'count']\n",
    "\n",
    "# Create the pair plot\n",
    "sns.pairplot(bike_df[columns])\n",
    "\n",
    "# Show the plot\n",
    "plt.suptitle('Pair Plot of Numerical Columns', fontsize=16, fontweight='bold', y=1.02)\n",
    "plt.show()"
   ]
  },
  {
   "cell_type": "code",
   "execution_count": null,
   "id": "3cec1b79-457c-457f-aacc-d937a32f8c45",
   "metadata": {},
   "outputs": [],
   "source": [
    "# Correlation Matrix of Numerical Columns\n",
    "columns = ['temp', 'atemp', 'humidity', 'windspeed', 'count']\n",
    "cmap = sns.color_palette(\"viridis\", as_cmap=True)\n",
    "sns.heatmap(bike_df[columns].corr(), cmap=cmap, annot=True, fmt=\".3f\", linewidths=0.5, center=0,annot_kws={\"size\": 7, \"color\": \"black\"})\n",
    "# Add titles and labels\n",
    "plt.title('Correlation Heatmap', fontsize=12)\n",
    "plt.xticks(rotation=45, ha='right', fontsize=10)\n",
    "plt.yticks(fontsize=10)\n",
    "\n",
    "# Show the heatmap\n",
    "plt.show()"
   ]
  },
  {
   "cell_type": "code",
   "execution_count": null,
   "id": "df46098f-f8b3-43be-91c8-f47616cc284c",
   "metadata": {},
   "outputs": [],
   "source": [
    "bike_df.drop(['date', 'casual', 'registered'], inplace=True, axis=1)"
   ]
  },
  {
   "cell_type": "markdown",
   "id": "d4276b9a-6d26-4f00-9906-43b595ccc094",
   "metadata": {},
   "source": [
    "# 4. Feature Engineering <a id=\"feature\"></a>"
   ]
  },
  {
   "cell_type": "code",
   "execution_count": null,
   "id": "96207876-77f7-4cd2-b8c0-cd7e07dbee01",
   "metadata": {},
   "outputs": [],
   "source": [
    "bike_df.columns"
   ]
  },
  {
   "cell_type": "markdown",
   "id": "589551d1-e24d-4a1e-b0be-51b833975ae2",
   "metadata": {},
   "source": [
    "#### Creating Dummy Variables"
   ]
  },
  {
   "cell_type": "code",
   "execution_count": null,
   "id": "bee52047-c5aa-48fb-9c45-7fd524353a2e",
   "metadata": {},
   "outputs": [],
   "source": [
    "season_dummy = pd.get_dummies(bike_df.season, drop_first=True, dtype=int)\n",
    "month_dummy = pd.get_dummies(bike_df.month, drop_first=True, dtype=int)\n",
    "weather_dummy = pd.get_dummies(bike_df.weathersit, drop_first=True, dtype=int)\n",
    "weekday_dummy = pd.get_dummies(bike_df.weekday, drop_first=True, dtype=int)"
   ]
  },
  {
   "cell_type": "code",
   "execution_count": null,
   "id": "d0cdeaf6-70cf-4fb9-85df-ff28d67dedeb",
   "metadata": {},
   "outputs": [],
   "source": [
    "weather_dummy"
   ]
  },
  {
   "cell_type": "code",
   "execution_count": null,
   "id": "828cbd97-ee89-46c3-b0c3-57c2961fb7e3",
   "metadata": {},
   "outputs": [],
   "source": [
    "df_with_dummies = pd.concat([bike_df, season_dummy, month_dummy, weather_dummy, weekday_dummy], axis=1)\n",
    "df_with_dummies.drop(['season', 'month', 'weathersit', 'weekday'], axis=1, inplace=True)"
   ]
  },
  {
   "cell_type": "code",
   "execution_count": null,
   "id": "95120705-c789-4b06-a478-f0854674e2ff",
   "metadata": {},
   "outputs": [],
   "source": [
    "cmap = sns.color_palette(\"viridis\", as_cmap=True)\n",
    "plt.figure(figsize=(12, 8))\n",
    "\n",
    "sns.heatmap(df_with_dummies.corr(), cmap=cmap, annot=True, fmt=\".1f\", linewidths=0.5, center=0,annot_kws={\"size\": 7, \"color\": \"black\"})\n",
    "# Add titles and labels\n",
    "plt.title('Correlation Heatmap', fontsize=12)\n",
    "plt.xticks(rotation=45, ha='right', fontsize=10)\n",
    "plt.yticks(fontsize=10)\n",
    "\n",
    "# Show the heatmap\n",
    "plt.show()"
   ]
  },
  {
   "cell_type": "markdown",
   "id": "439c0296-0789-4db4-ab70-49e0230b7b1d",
   "metadata": {},
   "source": [
    "**We observed that some dummy variables are correlated with each other. To address this, we are opting to manually drop specific columns instead of relying on the drop_first parameter when creating the dummies**"
   ]
  },
  {
   "cell_type": "code",
   "execution_count": null,
   "id": "f4bb0b35-d424-4d17-9436-65d3e10e819c",
   "metadata": {},
   "outputs": [],
   "source": [
    "weather_dummy = pd.get_dummies(bike_df.weathersit, dtype=int)\n",
    "weekday_dummy = pd.get_dummies(bike_df.weekday, dtype=int)\n"
   ]
  },
  {
   "cell_type": "code",
   "execution_count": null,
   "id": "ad161362-9178-4325-8ef9-3a7597d548a6",
   "metadata": {},
   "outputs": [],
   "source": [
    "bike_df = pd.concat([bike_df, season_dummy, month_dummy, weather_dummy, weekday_dummy], axis=1)\n",
    "bike_df.drop(['season', 'month', 'weathersit', 'weekday'], axis=1, inplace=True)"
   ]
  },
  {
   "cell_type": "code",
   "execution_count": null,
   "id": "3446fed9-66d9-4411-aeb1-638e5041b7d2",
   "metadata": {},
   "outputs": [],
   "source": [
    "cmap = sns.color_palette(\"viridis\", as_cmap=True)\n",
    "plt.figure(figsize=(12, 8))\n",
    "\n",
    "sns.heatmap(bike_df.corr(), cmap=cmap, annot=True, fmt=\".1f\", linewidths=0.5, center=0,annot_kws={\"size\": 7, \"color\": \"black\"})\n",
    "# Add titles and labels\n",
    "plt.title('Correlation Heatmap', fontsize=12)\n",
    "plt.xticks(rotation=45, ha='right', fontsize=10)\n",
    "plt.yticks(fontsize=10)\n",
    "\n",
    "# Show the heatmap\n",
    "plt.show()"
   ]
  },
  {
   "cell_type": "code",
   "execution_count": null,
   "id": "0b901772-439c-4258-b2dc-3950bc2ad7b8",
   "metadata": {},
   "outputs": [],
   "source": [
    "corr_matrix = bike_df[['count', 'Clear', 'Light_Snow_Rain', 'Mist' ]].corr()\n",
    "cmap = sns.color_palette(\"viridis\", as_cmap=True)\n",
    "plt.figure(figsize=(5, 4))\n",
    "sns.heatmap(corr_matrix.corr(), cmap=cmap, annot=True, fmt=\".2f\", linewidths=0.5, center=0,annot_kws={\"size\": 7, \"color\": \"black\"})\n",
    "# Add titles and labels\n",
    "plt.title('Correlation Heatmap', fontsize=12)\n",
    "plt.xticks(rotation=45, ha='right', fontsize=10)\n",
    "plt.yticks(fontsize=10)\n",
    "\n",
    "# Show the heatmap\n",
    "plt.show()"
   ]
  },
  {
   "cell_type": "code",
   "execution_count": null,
   "id": "0e25d110-6681-4f3b-8021-68a8e59f3f34",
   "metadata": {},
   "outputs": [],
   "source": [
    "# Dropping Mist as it has high correlation with clear weather\n",
    "bike_df.drop('Mist', axis=1, inplace=True)"
   ]
  },
  {
   "cell_type": "code",
   "execution_count": null,
   "id": "1ffd182a-201f-4145-be83-e4e0499aec1c",
   "metadata": {},
   "outputs": [],
   "source": [
    "corr_matrix = bike_df[['count', 'Fri', 'Mon', 'Sat', 'Sun', 'Thurs', 'Tues', 'Wed' ]].corr()\n",
    "cmap = sns.color_palette(\"viridis\", as_cmap=True)\n",
    "plt.figure(figsize=(5, 4))\n",
    "sns.heatmap(corr_matrix.corr(), cmap=cmap, annot=True, fmt=\".2f\", linewidths=0.5, center=0,annot_kws={\"size\": 7, \"color\": \"black\"})\n",
    "# Add titles and labels\n",
    "plt.title('Correlation Heatmap', fontsize=12)\n",
    "plt.xticks(rotation=45, ha='right', fontsize=10)\n",
    "plt.yticks(fontsize=10)\n",
    "\n",
    "# Show the heatmap\n",
    "plt.show()"
   ]
  },
  {
   "cell_type": "code",
   "execution_count": null,
   "id": "bb200cc2-a52f-4b99-ac7b-9ecf2cf2c5a4",
   "metadata": {},
   "outputs": [],
   "source": [
    "# Dropping Thurs as its least correlated with count\n",
    "bike_df.drop('Thurs', axis=1, inplace=True)"
   ]
  },
  {
   "cell_type": "markdown",
   "id": "9d369c5d-5a51-4acf-9eaa-6b7db09a3b47",
   "metadata": {},
   "source": [
    "#### Splitting the Data into Training and Testing Sets"
   ]
  },
  {
   "cell_type": "code",
   "execution_count": null,
   "id": "4ade01e4-dced-4aec-966c-5c0d747c9e1a",
   "metadata": {},
   "outputs": [],
   "source": [
    "df_train, df_test = train_test_split(bike_df, train_size=0.7, test_size=0.3, random_state=100)"
   ]
  },
  {
   "cell_type": "markdown",
   "id": "9309c2a2-f7e3-43ea-af16-be70336ca903",
   "metadata": {},
   "source": [
    "#### Rescaling the Features\r\n"
   ]
  },
  {
   "cell_type": "markdown",
   "id": "79573cd1-b7ef-46aa-abec-8f8f13aa1e84",
   "metadata": {},
   "source": [
    "- Normalization (Min-Max Scaling): Rescales the data to a fixed range, usually [0,1]. The formula is:\n",
    "$$\n",
    "X_{\\text{scaled}} = \\frac{X - X_{\\text{min}}}{X_{\\text{max}} - X_{\\text{min}}}\n",
    "$$"
   ]
  },
  {
   "cell_type": "code",
   "execution_count": null,
   "id": "74c2f4d3-5e9d-45a8-8614-48ea9237147d",
   "metadata": {},
   "outputs": [],
   "source": [
    "scaler = MinMaxScaler()"
   ]
  },
  {
   "cell_type": "code",
   "execution_count": null,
   "id": "7b6e67c9-52d2-4df5-b4e8-ade8b6d42cee",
   "metadata": {},
   "outputs": [],
   "source": [
    "df_train.columns"
   ]
  },
  {
   "cell_type": "code",
   "execution_count": null,
   "id": "ea5d36a5-5ed3-4151-869b-c783eb623ebd",
   "metadata": {},
   "outputs": [],
   "source": [
    "# Apply scaler() to all the columns except the 'yes-no' and 'dummy' variables\n",
    "num_vars = ['temp', 'atemp', 'humidity', 'windspeed']\n",
    "df_train[num_vars] = scaler.fit_transform(df_train[num_vars])\n",
    "df_test[num_vars] = scaler.transform(df_test[num_vars])"
   ]
  },
  {
   "cell_type": "code",
   "execution_count": null,
   "id": "90a2a8da-a324-422e-a816-9b0559a8d810",
   "metadata": {},
   "outputs": [],
   "source": [
    "df_train.describe()"
   ]
  },
  {
   "cell_type": "markdown",
   "id": "c604af73-8df0-4fd2-b502-bc901b143c22",
   "metadata": {},
   "source": [
    "#### Dividung into X and Y sets for the model building"
   ]
  },
  {
   "cell_type": "code",
   "execution_count": null,
   "id": "0aa74577-a0cf-4b20-a4d4-79832c21cd52",
   "metadata": {},
   "outputs": [],
   "source": [
    "y_train = df_train.pop('count')\n",
    "X_train = df_train\n",
    "y_test = df_test.pop('count')\n",
    "X_test = df_test"
   ]
  },
  {
   "cell_type": "markdown",
   "id": "eb16af1f-174b-457f-b46d-7f14f66032a0",
   "metadata": {},
   "source": [
    "# 5. Model Building and Feature Selection <a id=\"model\"></a>"
   ]
  },
  {
   "cell_type": "markdown",
   "id": "b4202c25-22ca-43cb-97f3-88aec810a311",
   "metadata": {
    "jp-MarkdownHeadingCollapsed": true
   },
   "source": [
    "### Base Model"
   ]
  },
  {
   "cell_type": "code",
   "execution_count": null,
   "id": "06fccff3-91a5-4740-bf5f-9f806a5f85e2",
   "metadata": {},
   "outputs": [],
   "source": [
    "def linear_reg(X_train, y_train, X_test, y_test):\n",
    "    '''\n",
    "    This function performs linear regression on the provided training data, evaluates the model on both training \n",
    "    and testing data, and returns the trained model.\n",
    "\n",
    "    Parameters:\n",
    "    X_train (DataFrame or array-like): The training feature set.\n",
    "    y_train (Series or array-like): The target variable corresponding to the training data.\n",
    "    X_test (DataFrame or array-like): The testing feature set.\n",
    "    y_test (Series or array-like): The target variable corresponding to the testing data.'''\n",
    "    \n",
    "    X_train_lm = sm.add_constant(X_train)\n",
    "    model = sm.OLS(y_train, X_train_lm).fit()\n",
    "    X_test_lm = sm.add_constant(X_test)\n",
    "    y_pred_train = model.predict(X_train_lm)\n",
    "    y_pred_test= model.predict(X_test_lm)\n",
    "    print(\"R2 Score of the training data:\",r2_score(y_pred = y_pred_train, y_true = y_train))\n",
    "    print(\"R2 Score of the testing data:\",r2_score(y_pred = y_pred_test, y_true = y_test))\n",
    "    print(model.summary())\n",
    "    plt.show()\n",
    "    return model"
   ]
  },
  {
   "cell_type": "code",
   "execution_count": null,
   "id": "112f0b27-c7b5-44db-b3d7-0f4e6861013e",
   "metadata": {},
   "outputs": [],
   "source": [
    "def get_stats(model, X):\n",
    "    # Add a constant to X (just as it was added during the model fitting)\n",
    "    X_with_const = sm.add_constant(X)\n",
    "    \n",
    "    # Calculate p-values and VIF\n",
    "    stats = pd.DataFrame(data=model.pvalues, columns=['Pvalue'])\n",
    "    stats['feature'] = stats.index\n",
    "    \n",
    "    # Ensure VIF calculation includes the constant\n",
    "    stats['VIF'] = [variance_inflation_factor(X_with_const.values, i) for i in range(X_with_const.shape[1])]\n",
    "    \n",
    "    stats.reset_index(drop=True, inplace=True)\n",
    "    stats['Pvalue'] = stats['Pvalue'].round(3)\n",
    "    \n",
    "    # Sort by p-value in descending order\n",
    "    stats = stats.sort_values(by='Pvalue', ascending=False)\n",
    "    return stats"
   ]
  },
  {
   "cell_type": "code",
   "execution_count": null,
   "id": "b9592afe-7aaa-4a90-9466-5acc01631114",
   "metadata": {
    "scrolled": true
   },
   "outputs": [],
   "source": [
    "base_model = linear_reg(X_train, y_train, X_test, y_test)"
   ]
  },
  {
   "cell_type": "code",
   "execution_count": null,
   "id": "fad4078b-7a31-4684-b57f-8eb237ba091f",
   "metadata": {},
   "outputs": [],
   "source": [
    "get_stats(base_model, X_train)"
   ]
  },
  {
   "cell_type": "markdown",
   "id": "e6e544dc-06b5-4b1c-a77c-b9bdb1cf2a1e",
   "metadata": {
    "jp-MarkdownHeadingCollapsed": true
   },
   "source": [
    "## 5.1. Feature Selection Using Recursive Feature Elimination (RFE) <a id='rfe'></a>"
   ]
  },
  {
   "cell_type": "code",
   "execution_count": null,
   "id": "22587fdd-85e2-415a-8b1a-dcad4862baa2",
   "metadata": {},
   "outputs": [],
   "source": [
    "# Performing RFE\n",
    "lm = LinearRegression()\n",
    "lm.fit(X_train, y_train)\n",
    "\n",
    "rfe = RFE(estimator=lm, n_features_to_select=15)\n",
    "rfe = rfe.fit(X_train, y_train)"
   ]
  },
  {
   "cell_type": "code",
   "execution_count": null,
   "id": "51a25d04-a930-4015-8dff-cd37c1693b75",
   "metadata": {},
   "outputs": [],
   "source": [
    "list(zip(X_train.columns,rfe.support_,rfe.ranking_))"
   ]
  },
  {
   "cell_type": "code",
   "execution_count": null,
   "id": "fe15729d-f782-438a-9a33-7599d3f8268e",
   "metadata": {},
   "outputs": [],
   "source": [
    "# Extracting RFE Selected Features\n",
    "col = X_train.columns[rfe.support_]\n",
    "col"
   ]
  },
  {
   "cell_type": "code",
   "execution_count": null,
   "id": "1566a285-0b66-4c50-a2a7-d3b996e91e1c",
   "metadata": {},
   "outputs": [],
   "source": [
    "X_train.columns[~rfe.support_]"
   ]
  },
  {
   "cell_type": "markdown",
   "id": "165afb04-acb7-463f-a1fc-b6e85d9b447e",
   "metadata": {
    "jp-MarkdownHeadingCollapsed": true
   },
   "source": [
    "## 5.2. Model Development and Comparison <a id='models'></a>"
   ]
  },
  {
   "cell_type": "markdown",
   "id": "8517d5e4-b063-4e57-9e08-36f93ec86b47",
   "metadata": {},
   "source": [
    "***Developing a model using features selected by RFE, and refining it by removing features based on p-values and VIF to achieve the most optimized performance.***"
   ]
  },
  {
   "cell_type": "markdown",
   "id": "800b779d-069a-4c6a-ae33-14afc79663b5",
   "metadata": {},
   "source": [
    "### Model_0"
   ]
  },
  {
   "cell_type": "code",
   "execution_count": null,
   "id": "4d46b78d-9301-4a93-baf0-6797b0695009",
   "metadata": {},
   "outputs": [],
   "source": [
    "# Building Model Using RFE selected Features\n",
    "X_train_lm = X_train[col]\n",
    "X_test_lm = X_test[col]"
   ]
  },
  {
   "cell_type": "code",
   "execution_count": null,
   "id": "7e415788-75a2-429f-8d6b-5731a976c7a5",
   "metadata": {},
   "outputs": [],
   "source": [
    "model_0 = linear_reg(X_train_lm, y_train, X_test_lm, y_test)"
   ]
  },
  {
   "cell_type": "code",
   "execution_count": null,
   "id": "15205d38-b122-4819-a739-0429cf512261",
   "metadata": {},
   "outputs": [],
   "source": [
    "get_stats(model_0, X_train_lm)"
   ]
  },
  {
   "cell_type": "markdown",
   "id": "760cbf6f-e1ad-43cb-9004-4ebdd56e7a16",
   "metadata": {},
   "source": [
    "### Model 1"
   ]
  },
  {
   "cell_type": "code",
   "execution_count": null,
   "id": "dbd1b9ce-2d64-4079-acb0-1bcc019f13dc",
   "metadata": {},
   "outputs": [],
   "source": [
    "# Removing the 'holiday' feature due to its p-value of 0.42 and an infinite VIF\n",
    "col = ['year', 'workingday', 'temp', 'humidity', 'windspeed',\n",
    "       'spring', 'winter', 'Jan', 'Jul', 'Sep', 'Clear', 'Light_Snow_Rain',\n",
    "       'Mon', 'Tues']\n",
    "\n",
    "X_train_lm = X_train[col]\n",
    "X_test_lm = X_test[col]\n",
    "model_1 = linear_reg(X_train_lm, y_train, X_test_lm, y_test)"
   ]
  },
  {
   "cell_type": "code",
   "execution_count": null,
   "id": "3885f21b-4f73-4ea6-bd1f-1ec33733c334",
   "metadata": {},
   "outputs": [],
   "source": [
    "get_stats(model_1, X_train_lm)"
   ]
  },
  {
   "cell_type": "markdown",
   "id": "1a71f9b0-0cad-40ea-9e1f-ff5ecaf9d00f",
   "metadata": {},
   "source": [
    "### Model 2"
   ]
  },
  {
   "cell_type": "code",
   "execution_count": null,
   "id": "057bae3c-f84c-491a-b1d4-6c2edd6a8eca",
   "metadata": {},
   "outputs": [],
   "source": [
    "# Removing the 'Tues' feature due to its VIF of 5.7\n",
    "col = ['year', 'workingday', 'temp', 'humidity', 'windspeed',\n",
    "       'spring', 'winter', 'Jan', 'Jul', 'Sep', 'Clear', 'Light_Snow_Rain',\n",
    "       'Mon']\n",
    "X_train_lm = X_train[col]\n",
    "X_test_lm = X_test[col]\n",
    "model_2 = linear_reg(X_train_lm, y_train, X_test_lm, y_test)"
   ]
  },
  {
   "cell_type": "code",
   "execution_count": null,
   "id": "aedcb2a3-43c1-4ac0-ba35-9bdb22a23a8d",
   "metadata": {},
   "outputs": [],
   "source": [
    "get_stats(model_2, X_train_lm)"
   ]
  },
  {
   "cell_type": "markdown",
   "id": "e5744fbd-7cf9-42fa-8c2c-d3b83afcfb38",
   "metadata": {},
   "source": [
    "### Model 3"
   ]
  },
  {
   "cell_type": "code",
   "execution_count": null,
   "id": "30439791-ea14-444f-9fee-30f70690b93c",
   "metadata": {},
   "outputs": [],
   "source": [
    "# Removing the 'Jan' feature\n",
    "col = ['year', 'workingday', 'temp', 'humidity', 'windspeed',\n",
    "       'spring', 'winter', 'Jul', 'Sep', 'Clear', 'Light_Snow_Rain',\n",
    "       'Mon']\n",
    "X_train_lm = X_train[col]\n",
    "X_test_lm = X_test[col]\n",
    "model_3 = linear_reg(X_train_lm, y_train, X_test_lm, y_test)"
   ]
  },
  {
   "cell_type": "code",
   "execution_count": null,
   "id": "d926358b-40e9-460c-a8e2-98526291b20a",
   "metadata": {},
   "outputs": [],
   "source": [
    "get_stats(model_3, X_train_lm)"
   ]
  },
  {
   "cell_type": "markdown",
   "id": "4ac0702d-c2af-4002-8807-41b2aed796fa",
   "metadata": {},
   "source": [
    "### Model 4"
   ]
  },
  {
   "cell_type": "code",
   "execution_count": null,
   "id": "7e588d44-1526-4daa-a579-f3c0e605153e",
   "metadata": {},
   "outputs": [],
   "source": [
    "# Removing 'temp' feature and trying to add 'atemp' - They both are correlated to each other so using only one of them \n",
    "col = ['year', 'workingday', 'atemp', 'humidity', 'windspeed',\n",
    "       'spring', 'winter', 'Jul', 'Sep', 'Clear', 'Light_Snow_Rain',\n",
    "       'Mon']\n",
    "X_train_lm = X_train[col]\n",
    "X_test_lm = X_test[col]\n",
    "model_4 = linear_reg(X_train_lm, y_train, X_test_lm, y_test)"
   ]
  },
  {
   "cell_type": "code",
   "execution_count": null,
   "id": "257b9355-3f4a-459f-a74d-065208fcd074",
   "metadata": {},
   "outputs": [],
   "source": [
    "get_stats(model_4, X_train_lm)\n"
   ]
  },
  {
   "cell_type": "code",
   "execution_count": null,
   "id": "45f737cc-1cb5-4976-8d94-065f1125de3b",
   "metadata": {},
   "outputs": [],
   "source": [
    "cmap = sns.color_palette(\"viridis\", as_cmap=True)\n",
    "plt.figure(figsize=(10, 6))\n",
    "\n",
    "sns.heatmap(X_train[col].corr(), cmap=cmap, annot=True, fmt=\".1f\", linewidths=0.5, center=0,annot_kws={\"size\": 7, \"color\": \"black\"})\n",
    "# Add titles and labels\n",
    "plt.title('Correlation Heatmap', fontsize=12)\n",
    "plt.xticks(rotation=45, ha='right', fontsize=10)\n",
    "plt.yticks(fontsize=10)\n",
    "\n",
    "# Show the heatmap\n",
    "plt.show()\n"
   ]
  },
  {
   "cell_type": "markdown",
   "id": "d2d33946-f434-4eb5-9095-c9cabe67b6fb",
   "metadata": {},
   "source": [
    "### Model 5"
   ]
  },
  {
   "cell_type": "code",
   "execution_count": null,
   "id": "0b94168b-7968-400d-9536-c507d4522284",
   "metadata": {},
   "outputs": [],
   "source": [
    "# Removing the 'Mon' feature\n",
    "col = ['year', 'workingday', 'temp', 'humidity', 'windspeed',\n",
    "       'spring', 'winter', 'Jul', 'Sep', 'Clear', 'Light_Snow_Rain']\n",
    "\n",
    "X_train_lm = X_train[col]\n",
    "X_test_lm = X_test[col]\n",
    "model_5 = linear_reg(X_train_lm, y_train, X_test_lm, y_test)"
   ]
  },
  {
   "cell_type": "code",
   "execution_count": null,
   "id": "cd2d4c73-c9b7-4190-89a1-b05123bd54c7",
   "metadata": {},
   "outputs": [],
   "source": [
    "get_stats(model_5, X_train_lm)"
   ]
  },
  {
   "cell_type": "markdown",
   "id": "79feef5f-ee8c-4800-afda-b10c0f4735a5",
   "metadata": {},
   "source": [
    "### Model 6"
   ]
  },
  {
   "cell_type": "code",
   "execution_count": null,
   "id": "963043a7-a285-479e-a106-72da4242f5ab",
   "metadata": {},
   "outputs": [],
   "source": [
    "# Removing the 'Workingday' feature\n",
    "col = ['year', 'temp', 'humidity', 'windspeed',\n",
    "       'spring', 'winter', 'Jul', 'Sep', 'Clear', 'Light_Snow_Rain']\n",
    "X_train_lm = X_train[col]\n",
    "X_test_lm = X_test[col]\n",
    "model_6 = linear_reg(X_train_lm, y_train, X_test_lm, y_test)"
   ]
  },
  {
   "cell_type": "code",
   "execution_count": null,
   "id": "73af7fb6-6a94-4f41-84c7-14e38b74fff3",
   "metadata": {},
   "outputs": [],
   "source": [
    "get_stats(model_6, X_train_lm)"
   ]
  },
  {
   "cell_type": "markdown",
   "id": "efaa81db-0e9d-4b7d-86fc-1af0963c1064",
   "metadata": {},
   "source": [
    "### Model 7"
   ]
  },
  {
   "cell_type": "code",
   "execution_count": null,
   "id": "1eb2eecb-db35-4d43-972c-174611428d7c",
   "metadata": {},
   "outputs": [],
   "source": [
    "col = ['year', 'temp', 'humidity', 'windspeed',\n",
    "       'spring', 'winter', 'Jul', 'Sep', 'Light_Snow_Rain']\n",
    "X_train_lm = X_train[col]\n",
    "X_test_lm = X_test[col]\n",
    "model_7 = linear_reg(X_train_lm, y_train, X_test_lm, y_test)"
   ]
  },
  {
   "cell_type": "code",
   "execution_count": null,
   "id": "16fdb606-210b-4fcf-9232-2c5353654c9a",
   "metadata": {},
   "outputs": [],
   "source": [
    "get_stats(model_7, X_train_lm)"
   ]
  },
  {
   "cell_type": "markdown",
   "id": "8f143647-5d10-4109-a1ae-0dd8eadc5caa",
   "metadata": {
    "jp-MarkdownHeadingCollapsed": true
   },
   "source": [
    "## 5.3. Selecting the Best Model <a id='best_model'></a>"
   ]
  },
  {
   "cell_type": "code",
   "execution_count": null,
   "id": "d391e929-624f-452e-92e7-c11ec54e5c58",
   "metadata": {},
   "outputs": [],
   "source": [
    "models = [model_1, model_2, model_3, model_4, model_5, model_6, model_7]  \n",
    "\n",
    "# Create an empty DataFrame to store the metrics\n",
    "model_comparison = pd.DataFrame(columns=['Model', 'R-squared', 'Adjusted R-squared', 'F-statistic', 'AIC', 'BIC'])\n",
    "\n",
    "# Loop through each fitted model and extract the statistics\n",
    "for i, model in enumerate(models, start=1):\n",
    "    # Create a DataFrame for the current model's statistics\n",
    "    model_stats = pd.DataFrame({\n",
    "        'Model': [f'Model_{i}'],\n",
    "        'R-squared': [model.rsquared],\n",
    "        'Adjusted R-squared': [model.rsquared_adj],\n",
    "        'F-statistic': [model.fvalue],\n",
    "        'AIC': [model.aic],\n",
    "        'BIC': [model.bic]\n",
    "    })\n",
    "\n",
    "    # Concatenate the current model's statistics with the main DataFrame\n",
    "    model_comparison = pd.concat([model_comparison, model_stats], ignore_index=True)\n",
    "\n",
    "# Display the DataFrame with results\n",
    "model_comparison"
   ]
  },
  {
   "cell_type": "code",
   "execution_count": null,
   "id": "d7b05026-18ce-43d1-b40c-c399d92f0f16",
   "metadata": {},
   "outputs": [],
   "source": [
    "fig, axes = plt.subplots(3, 2, figsize=(14, 10))\n",
    "fig.suptitle('Model Comparison Metrics', fontsize=16)\n",
    "\n",
    "# Function to add values on bars\n",
    "def add_values_on_bars(ax, bars):\n",
    "    for bar in bars:\n",
    "        yval = bar.get_height()\n",
    "        ax.text(bar.get_x() + bar.get_width()/2, yval, round(yval, 2), ha='center', va='bottom')\n",
    "\n",
    "# Plot each metric on a separate subplot and add values on bars\n",
    "bars_r2 = axes[0, 0].bar(model_comparison['Model'], model_comparison['R-squared'], color='skyblue')\n",
    "axes[0, 0].set_title('R-squared')\n",
    "axes[0, 0].set_xlabel('Models')\n",
    "axes[0, 0].set_ylabel('R-squared')\n",
    "add_values_on_bars(axes[0, 0], bars_r2)\n",
    "\n",
    "bars_adj_r2 = axes[0, 1].bar(model_comparison['Model'], model_comparison['Adjusted R-squared'], color='lightgreen')\n",
    "axes[0, 1].set_title('Adjusted R-squared')\n",
    "axes[0, 1].set_xlabel('Models')\n",
    "axes[0, 1].set_ylabel('Adjusted R-squared')\n",
    "add_values_on_bars(axes[0, 1], bars_adj_r2)\n",
    "\n",
    "bars_fstat = axes[1, 0].bar(model_comparison['Model'], model_comparison['F-statistic'], color='salmon')\n",
    "axes[1, 0].set_title('F-statistic')\n",
    "axes[1, 0].set_xlabel('Models')\n",
    "axes[1, 0].set_ylabel('F-statistic')\n",
    "add_values_on_bars(axes[1, 0], bars_fstat)\n",
    "\n",
    "bars_aic = axes[1, 1].bar(model_comparison['Model'], model_comparison['AIC'], color='orchid')\n",
    "axes[1, 1].set_title('AIC')\n",
    "axes[1, 1].set_xlabel('Models')\n",
    "axes[1, 1].set_ylabel('AIC')\n",
    "add_values_on_bars(axes[1, 1], bars_aic)\n",
    "\n",
    "bars_bic = axes[2, 0].bar(model_comparison['Model'], model_comparison['BIC'], color='gold')\n",
    "axes[2, 0].set_title('BIC')\n",
    "axes[2, 0].set_xlabel('Models')\n",
    "axes[2, 0].set_ylabel('BIC')\n",
    "add_values_on_bars(axes[2, 0], bars_bic)\n",
    "\n",
    "# Hide the last unused subplot\n",
    "axes[2, 1].axis('off')\n",
    "\n",
    "# Adjust layout\n",
    "plt.tight_layout(rect=[0, 0, 1, 0.96])\n",
    "\n",
    "# Show plot\n",
    "plt.show()"
   ]
  },
  {
   "cell_type": "markdown",
   "id": "cd7acee9-dc6f-4012-a827-db265fdc1ea4",
   "metadata": {},
   "source": [
    "**Best Model: Model_3**\n",
    "\n",
    "***Reason for Selection***: Model_3 has one of the highest R-squared and Adjusted R-squared values, indicating strong explanatory power. It avoids the multicollinearity issue seen in Models 1 and 2, while still maintaining a favorable balance in AIC and BIC, making it a robust and reliable choice."
   ]
  },
  {
   "cell_type": "markdown",
   "id": "b568a5e1-703e-4a3e-8944-1c3f028da96a",
   "metadata": {},
   "source": [
    "## 5.4. Final Model <a id='final_model'></a>"
   ]
  },
  {
   "cell_type": "code",
   "execution_count": null,
   "id": "2b786fc1-3df9-4cdf-aa2c-f9bcef4e6c45",
   "metadata": {},
   "outputs": [],
   "source": [
    "# Final Model\n",
    "col = ['year', 'workingday', 'temp', 'humidity', 'windspeed',\n",
    "       'spring', 'winter', 'Jul', 'Sep', 'Clear', 'Light_Snow_Rain',\n",
    "       'Mon']\n",
    "X_train_lm = X_train[col]\n",
    "X_test_lm = X_test[col]\n",
    "final_model = linear_reg(X_train_lm, y_train, X_test_lm, y_test)"
   ]
  },
  {
   "cell_type": "markdown",
   "id": "4d3bf585-b6d7-49fb-9699-101c06e9cddb",
   "metadata": {},
   "source": [
    "## 5.5. Model Evaluation <a id='model_evalution'></a>"
   ]
  },
  {
   "cell_type": "markdown",
   "id": "e40b4e6c-0fe2-4688-a253-01f01cb56c02",
   "metadata": {},
   "source": [
    "### 5.5.1. Residual Analysis <a id='residual_analysis'></a>"
   ]
  },
  {
   "cell_type": "markdown",
   "id": "4351e7fe-f3d7-4d6e-aa27-78ae1970abe6",
   "metadata": {},
   "source": [
    "- Residual analysis helps assess how well the model's predictions align with actual data, identifying any patterns or discrepancies that suggest model inaccuracies.\n",
    "\n",
    "- It ensures that key regression assumptions (e.g., homoscedasticity, linearity) are met, which is crucial for the validity of the model's inferences."
   ]
  },
  {
   "cell_type": "code",
   "execution_count": null,
   "id": "8a34fbb2-ca64-4d9e-bd89-8ce0d0619530",
   "metadata": {},
   "outputs": [],
   "source": [
    "y_train_pred = final_model.predict(sm.add_constant(X_train_lm))\n",
    "residuals = y_train - y_train_pred"
   ]
  },
  {
   "cell_type": "code",
   "execution_count": null,
   "id": "4a5e0613-f114-47a1-82d5-f8d1b3dd7c4c",
   "metadata": {},
   "outputs": [],
   "source": [
    "fig, axs = plt.subplots(2, 2, figsize=(16, 12))\n",
    "\n",
    "# 1. Homoscedasticity Check\n",
    "sns.scatterplot(x=y_train_pred, y=residuals, alpha=0.5, ax=axs[0, 0])\n",
    "axs[0, 0].axhline(0, color='red', linestyle='--', linewidth=1)\n",
    "axs[0, 0].set_xlabel(\"Predicted Values\")\n",
    "axs[0, 0].set_ylabel(\"Residuals\")\n",
    "axs[0, 0].set_title(\"Homoscedasticity Check\")\n",
    "\n",
    "# 2. Normality of Residuals Check with Histogram and KDE\n",
    "sns.histplot(residuals, kde=True, ax=axs[0, 1])\n",
    "axs[0, 1].set_xlabel(\"Residuals\")\n",
    "axs[0, 1].set_title(\"Normality of Error Terms Check\")\n",
    "\n",
    "# 3. Q-Q Plot for Normality Check\n",
    "stats.probplot(residuals, dist=\"norm\", plot=axs[1, 0])\n",
    "axs[1, 0].set_title(\"Q-Q Plot\")\n",
    "\n",
    "# 4. Multicollinearity Check\n",
    "cmap = sns.diverging_palette(230, 20, as_cmap=True)\n",
    "sns.heatmap(X_train_lm.corr(), cmap=cmap, annot=True, fmt=\".2f\", ax=axs[1, 1])\n",
    "axs[1, 1].set_title(\"Multi-Collinearity Check\")\n",
    "\n",
    "# Set a common title for the entire figure\n",
    "fig.suptitle('Regression Assumptions Check', fontsize=16, fontweight='bold')\n",
    "\n",
    "plt.tight_layout(rect=[0, 0.03, 1, 0.95])  # Adjust layout to fit the title\n",
    "plt.show()"
   ]
  },
  {
   "cell_type": "markdown",
   "id": "397550f0-31d6-4671-be2f-8bbfb6527224",
   "metadata": {},
   "source": [
    "### 5.5.2. Test Data Predictions <a id='predicting_test_data'></a>"
   ]
  },
  {
   "cell_type": "code",
   "execution_count": null,
   "id": "50f4b641-5bf1-4ee9-9e86-92e3300893ec",
   "metadata": {},
   "outputs": [],
   "source": [
    "y_train_pred = final_model.predict(sm.add_constant(X_train_lm))\n",
    "y_test_pred= final_model.predict(sm.add_constant(X_test_lm))"
   ]
  },
  {
   "cell_type": "code",
   "execution_count": null,
   "id": "7a9c5b1a-8c33-405b-b50d-7821789f27cd",
   "metadata": {},
   "outputs": [],
   "source": [
    "print(\"R2 Score of the testing data:\",r2_score(y_pred = y_test_pred, y_true = y_test))"
   ]
  },
  {
   "cell_type": "code",
   "execution_count": null,
   "id": "856849e1-9ebb-47b4-8227-3ffc0dc49e14",
   "metadata": {
    "scrolled": true
   },
   "outputs": [],
   "source": [
    "c = [i for i in range(1, 220)]  # Create a list of indices from 1 to 219\n",
    "fig = plt.figure(figsize=(16, 6)) \n",
    "plt.plot(c, y_test, color=\"blue\", linewidth=1.5, linestyle=\"-\", label='Actual')  \n",
    "plt.plot(c, y_test_pred, color=\"red\", linewidth=1.5, linestyle=\"-\", label='Predicted')  \n",
    "\n",
    "fig.suptitle('Actual and Predicted', fontsize=20)\n",
    "plt.xlabel('Index', fontsize=18)  \n",
    "plt.ylabel('Count', fontsize=16)  \n",
    "plt.show()"
   ]
  },
  {
   "cell_type": "markdown",
   "id": "a24327ea-dca4-4fb6-ba9f-3efdea74b4a1",
   "metadata": {},
   "source": [
    "***Final Model Equation***\n",
    "\n",
    "\n",
    "<p style=\"font-weight: bold; font-style: italic; background-color: #f0f0f0;\">\n",
    "  count = 1977.9951 + 2007.7272⋅year + 450.4622⋅workingday + 4160.0340⋅temp − 1259.2241⋅humidity − 1470.3284⋅windspeed \n",
    "  − 939.9930⋅spring + 492.2803⋅winter − 668.0764⋅Jul + 497.1687⋅Sep + 513.9474⋅Clear − 1663.1473⋅Light_Snow_Rain + 536.7014⋅Mon\n",
    "</p>\n",
    "        \n",
    "\n",
    "**Interpretation:**\n",
    "\n",
    "- **R-Squared**: The R-squared values for the training and testing sets are **0.842** and **0.820**, respectively, indicating that the model explains a substantial proportion of the variance in the bike rental count. The adjusted R-squared value is **0.838**, further supporting the model's validity.\n",
    "\n",
    "- **Significant Predictors**:\n",
    "  - All predictors have statistically significant coefficients (p-values close to zero), meaning that they contribute meaningfully to the model.\n",
    "  \n",
    "- **Coefficients**:\n",
    "  - **Positive impact**: Variables like `year`, `workingday`, `temp`, `winter`, `Sep`, `Clear`, and `Mon` have positive coefficients, meaning that increases in these variables are associated with an increase in bike rental counts.\n",
    "  - **Negative impact**: Variables like `humidity`, `windspeed`, `spring`, `Jul`, and `Light_Snow_Rain` have negative coefficients, indicating that increases in these factors are associated with a decrease in bike rental counts."
   ]
  },
  {
   "cell_type": "markdown",
   "id": "1a5ced2d-0045-48bd-afa2-6165f85d81bf",
   "metadata": {},
   "source": [
    "# 6. Conclusions and Recommendations <a id='conclusions'></a>"
   ]
  },
  {
   "cell_type": "markdown",
   "id": "ea9e89ea-9763-40d7-b661-e4418355e2f4",
   "metadata": {},
   "source": [
    "1. ***Focus on Temperature Management***\n",
    "- **Insight:** Temperature significantly impacts bike rentals (**coef = 4160.0340**), indicating a preference for rentals during favorable temperatures.\n",
    "- **Recommendation:** Promote rentals during optimal temperature conditions through discounts or shaded routes.\n",
    "\n",
    "2. ***Optimize for Working Days***\n",
    "- **Insight:** Rentals increase on working days (**coef = 450.4622**).\n",
    "- **Recommendation:** Target promotions for non-working days and explore partnerships with companies to promote bike commuting.\n",
    "\n",
    "3. ***Seasonal Promotions***\n",
    "- **Insight:** Winter rentals increase (**coef = 492.2803**), while spring rentals decrease (**coef = -939.9930**).\n",
    "- **Recommendation:** Tailor promotions based on seasonal trends, such as offering winter gear or hosting spring cycling events.\n",
    "\n",
    "4. ***Weather-Responsive Pricing***\n",
    "- **Insight:** Clear weather boosts rentals (**coef = 513.9474**), while light snow or rain decreases them (**coef = -1663.1473**).\n",
    "- **Recommendation:** Implement dynamic pricing based on weather conditions.\n",
    "\n",
    "5. ***Strategic Weekday Focus***\n",
    "- **Insight:** Rentals are higher on Mondays (**coef = 536.7014**).\n",
    "- **Recommendation:** Focus marketing efforts on Mondays with weekday-specific deals.\n",
    "\n",
    "6. ***Monthly Campaigns***\n",
    "- **Insight:** September shows an increase in rentals (**coef = 497.1687**), while July shows a decrease (**coef = -668.0764**).\n",
    "- **Recommendation:** Leverage September's trend with marketing pushes and address the July decline with targeted campaigns.\n",
    "\n",
    "7. ***Yearly Growth Leverage***\n",
    "- **Insight:** The year 2019 positively impacts rentals (**coef = 2007.7272**).\n",
    "- **Recommendation:** Continue expansion efforts to sustain growth, including marketing and exploring new markets.\n",
    "\n",
    "8. ***Corporate and Institutional Partnership***\n",
    "- **Insight:** Working days positively impact rentals.\n",
    "- **Recommendation:** Partner with corporate offices, schools, and universities to promote bike rentals as a sustainable transport option."
   ]
  }
 ],
 "metadata": {
  "kernelspec": {
   "display_name": "Python 3 (ipykernel)",
   "language": "python",
   "name": "python3"
  },
  "language_info": {
   "codemirror_mode": {
    "name": "ipython",
    "version": 3
   },
   "file_extension": ".py",
   "mimetype": "text/x-python",
   "name": "python",
   "nbconvert_exporter": "python",
   "pygments_lexer": "ipython3",
   "version": "3.11.7"
  }
 },
 "nbformat": 4,
 "nbformat_minor": 5
}
